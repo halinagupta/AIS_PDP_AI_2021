{
  "nbformat": 4,
  "nbformat_minor": 0,
  "metadata": {
    "colab": {
      "name": "AIS_PDP_AI.ipynb",
      "provenance": [],
      "collapsed_sections": []
    },
    "kernelspec": {
      "name": "python3",
      "display_name": "Python 3"
    },
    "language_info": {
      "name": "python"
    }
  },
  "cells": [
    {
      "cell_type": "code",
      "metadata": {
        "id": "bhfNl7UiTvp4"
      },
      "source": [
        "#1\n",
        "from numpy import * #import  numpy\n",
        "from matplotlib import pyplot as p #import matplotlib\n",
        "from scipy import stats #scipy library\n",
        "import pandas as pd #import pandas\n",
        "from numpy.random import randn\n",
        "from numpy.random import seed\n",
        "from scipy.stats import pearsonr,zscore\n",
        "from sklearn.metrics import confusion_matrix\n",
        "from sklearn.metrics import classification_report\n"
      ],
      "execution_count": 11,
      "outputs": []
    },
    {
      "cell_type": "code",
      "metadata": {
        "id": "pA5WNuDhTrke",
        "colab": {
          "base_uri": "https://localhost:8080/"
        },
        "outputId": "982b6d56-fa08-488d-e7c1-75fecbd3f148"
      },
      "source": [
        "#2 Create a matrix\n",
        "\n",
        "A = array([[1, 2, 3], [4, 5, 6]])\n",
        "print(A)"
      ],
      "execution_count": null,
      "outputs": [
        {
          "output_type": "stream",
          "text": [
            "[[1 2 3]\n",
            " [4 5 6]]\n"
          ],
          "name": "stdout"
        }
      ]
    },
    {
      "cell_type": "code",
      "metadata": {
        "id": "OpaB6uDlaCbN",
        "colab": {
          "base_uri": "https://localhost:8080/"
        },
        "outputId": "42fddead-69a7-4714-9b62-09bc24c40d1d"
      },
      "source": [
        "# 3 Trace of a matrix\n",
        "A = array([[1, 2, 3], [4, 5, 6],[7,8,9]])\n",
        "print(A)\n",
        "B = array([[1, 2, 3], [4, 5, 6],[1,2,3]])\n",
        "print(B)\n",
        "print('Trace',trace(A))"
      ],
      "execution_count": null,
      "outputs": [
        {
          "output_type": "stream",
          "text": [
            "[[1 2 3]\n",
            " [4 5 6]\n",
            " [7 8 9]]\n",
            "[[1 2 3]\n",
            " [4 5 6]\n",
            " [1 2 3]]\n",
            "Trace 15\n"
          ],
          "name": "stdout"
        }
      ]
    },
    {
      "cell_type": "code",
      "metadata": {
        "id": "Kp8oZsysT4Bg"
      },
      "source": [
        "#4 Arithmetic operations on a matrix\n",
        "C = A + B\n",
        "print('Sum\\n',C) #add matrix\n",
        "C=A-B \n",
        "print('Difference\\n',C) #subtract matrix\n",
        "C= A*B\n",
        "print('Product\\n',C) #multiply matrix\n",
        "C=dot(A,B)\n",
        "print('Dot Product\\n',C)\n",
        "C= A/B \n",
        "print('Division',C) #divide matrix"
      ],
      "execution_count": null,
      "outputs": []
    },
    {
      "cell_type": "code",
      "metadata": {
        "colab": {
          "base_uri": "https://localhost:8080/"
        },
        "id": "OFcmGRvwT5qh",
        "outputId": "8eb9183c-c220-4a79-d624-3912c1d3f271"
      },
      "source": [
        "'''Can we perform addition, multiplication and division on\n",
        "X=[[3, 6, 9], [5, -10, 15], [-7, 14, 21]]\n",
        "Y=[[9, -18, 27], [11, 22, 33], [13, -26, 39]]'''\n"
      ],
      "execution_count": null,
      "outputs": [
        {
          "output_type": "stream",
          "text": [
            "[[ 12 -12  36]\n",
            " [ 16  12  48]\n",
            " [  6 -12  60]]\n",
            "[[ -6  24 -18]\n",
            " [ -6 -32 -18]\n",
            " [-20  40 -18]]\n",
            "[[ 210 -156  630]\n",
            " [ 130 -700  390]\n",
            " [ 364 -112 1092]]\n",
            "[[ 0.33333333 -0.33333333  0.33333333]\n",
            " [ 0.45454545 -0.45454545  0.45454545]\n",
            " [-0.53846154 -0.53846154  0.53846154]]\n"
          ],
          "name": "stdout"
        }
      ]
    },
    {
      "cell_type": "code",
      "metadata": {
        "id": "Qlga845-MTmY"
      },
      "source": [
        "#5 Transpose of a matrix\n",
        "a=array([[3,6,9],[1,2,3],[4,5,6]])\n",
        "print(transpose(a))"
      ],
      "execution_count": null,
      "outputs": []
    },
    {
      "cell_type": "code",
      "metadata": {
        "id": "o9UDzzBrPYNM"
      },
      "source": [
        "#6 Determinant of a matrix\n",
        "n = array([[55, 25, 15],\n",
        "                    [30, 44, 2],\n",
        "                    [11, 45, 77]])\n",
        "det = linalg.det(n)\n",
        "print(\"\\nDeterminant of given 3X3 square matrix:\")\n",
        "print(int(det))"
      ],
      "execution_count": null,
      "outputs": []
    },
    {
      "cell_type": "code",
      "metadata": {
        "id": "2pQwX5CFST-x"
      },
      "source": [
        "#7 Inverse of a matrix\n",
        "total=array([118.4,135.2])\n",
        "fare=array([[3,3.5],[3.2,3.6]])\n",
        "fareinverse=linalg.inv(fare)\n",
        "print(\"Total fare\",dot(total,fareinverse))"
      ],
      "execution_count": null,
      "outputs": []
    },
    {
      "cell_type": "code",
      "metadata": {
        "id": "7U_NwlYpWFex"
      },
      "source": [
        "#8 Vectors in python\n",
        "\n",
        "v1=array([1,2,10,5])\n",
        "v2=array([4,6,1,5])\n",
        "print(\"Sum \",v1+v2)\n",
        "print('Difference',v1-v2)\n",
        "print('Product',v1*v2)\n",
        "print('Dot product',dot(v1,v2))\n",
        "print(p.plot(v1))\n",
        "print(p.plot(v2))"
      ],
      "execution_count": null,
      "outputs": []
    },
    {
      "cell_type": "code",
      "metadata": {
        "id": "XSfM-mwj6FyS"
      },
      "source": [
        "#9 Data Science\n",
        "\n",
        "x=array([25,95,18,20,23,90,92,23,21,24])\n",
        "print('Mean',mean(x))\n",
        "print('Median',median(x))\n",
        "print('Mode',stats.mode(x))\n",
        "print('Variance',var(x))\n",
        "print('Standard Deviation',std(x))"
      ],
      "execution_count": null,
      "outputs": []
    },
    {
      "cell_type": "code",
      "metadata": {
        "id": "y_igE-kM3zVH"
      },
      "source": [
        "#10 Frequency table\n",
        "df = pd.DataFrame({'Grade': ['A','A','A','B','B', 'B', 'B', 'C', 'D', 'D'],\n",
        "                   'Age': [18, 18, 18, 19, 19, 20, 18, 18, 19, 19],\n",
        "                   'Gender': ['M','M', 'F', 'F', 'F', 'M', 'M', 'F', 'M', 'F']})\n",
        "pd.crosstab(index=df['Grade'], columns='count')"
      ],
      "execution_count": null,
      "outputs": []
    },
    {
      "cell_type": "markdown",
      "metadata": {
        "id": "y9kegj8U4FKu"
      },
      "source": [
        "The way to interpret this is as follows:\n",
        "\n",
        "3 students received an ‘A’ in the class.\n",
        "4 students received a ‘B’ in the class.\n",
        "1 student received a ‘C’ in the class.\n",
        "2 students received a ‘D’ in the class."
      ]
    },
    {
      "cell_type": "code",
      "metadata": {
        "id": "QD9b9kIMV2OC"
      },
      "source": [
        "#11 Line graph\n",
        "df = pd.DataFrame({\"Year\" : [2014,2015,2016,2017,2018], \n",
        "                  \"Sales\" : [2000, 3000, 4000, 3500, 6000]})\n",
        "p.plot(df[\"Year\"], df[\"Sales\"])\n",
        "p.title(\"Simple Line Plot\")\n",
        "p.xlabel('Year')\n",
        "p.ylabel('Sales')"
      ],
      "execution_count": null,
      "outputs": []
    },
    {
      "cell_type": "code",
      "metadata": {
        "id": "9GFnipLmhR8y"
      },
      "source": [
        "#12 bar graph using matplotlib\n",
        "import matplotlib.pyplot as plt\n",
        "data1 = [23,85, 72, 43, 52]\n",
        "data2 = [42, 35, 21, 16, 9]\n",
        "plt.bar(range(len(data1)), data1)\n",
        "plt.bar(range(len(data2)), data2, bottom=data1)\n",
        "plt.show()"
      ],
      "execution_count": null,
      "outputs": []
    },
    {
      "cell_type": "code",
      "metadata": {
        "id": "u9YVhA2iicDd"
      },
      "source": [
        "#13 bar graph using matplotlib \n",
        "data = {'C':20, 'C++':15, 'Java':30,\n",
        "        'Python':35}\n",
        "courses = list(data.keys())\n",
        "values = list(data.values())\n",
        "fig = plt.figure(figsize = (10, 5))\n",
        "# creating the bar plot\n",
        "plt.bar(courses, values, color ='maroon',\n",
        "     width = 0.4)\n",
        "plt.xlabel(\"Courses offered\")\n",
        "plt.ylabel(\"No. of students enrolled\")\n",
        "plt.title(\"Students enrolled in different courses\")\n",
        "plt.show()"
      ],
      "execution_count": null,
      "outputs": []
    },
    {
      "cell_type": "code",
      "metadata": {
        "id": "Sz-DIUGHW8Mc"
      },
      "source": [
        "#14 Pie chart\n",
        "fig = p.figure()\n",
        "ax = fig.add_axes([0,0,1,1])\n",
        "ax.axis('equal')\n",
        "langs = ['C', 'C++', 'Java', 'Python', 'PHP']\n",
        "students = [23,17,35,29,12]\n",
        "ax.pie(students, labels = langs,autopct='%1.2f%%')\n",
        "p.show()"
      ],
      "execution_count": null,
      "outputs": []
    },
    {
      "cell_type": "code",
      "metadata": {
        "id": "eykfgRbx3_P3"
      },
      "source": [
        "#15 Scatterplot\n",
        "\n",
        "raw_data = {'first_name': ['Jason', 'Molly', 'Tina', 'Jake', 'Amy'], \n",
        "        'last_name': ['Miller', 'Jacobson', 'Ali', 'Milner', 'Cooze'], \n",
        "        'female': [0, 1, 1, 0, 1],\n",
        "        'age': [42, 52, 36, 24, 73], \n",
        "        'preTestScore': [4, 24, 31, 2, 3],\n",
        "        'postTestScore': [25, 94, 57, 62, 70]}\n",
        "df = pd.DataFrame(raw_data, columns = ['first_name', 'last_name', 'age', 'female', 'preTestScore', 'postTestScore'])\n",
        "plt.scatter(df.preTestScore, df.postTestScore, s=df.age)"
      ],
      "execution_count": null,
      "outputs": []
    },
    {
      "cell_type": "code",
      "metadata": {
        "id": "ualeUDtmjADF"
      },
      "source": [
        "#16 Histogram\n",
        "x = random.randn(1000)  \n",
        "plt.hist(x)  \n",
        "plt.xlabel('Intervals')  \n",
        "plt.ylabel('Value')  \n",
        "plt.title('Distribution of the variable x')  \n",
        "plt.show()  \n"
      ],
      "execution_count": null,
      "outputs": []
    },
    {
      "cell_type": "code",
      "metadata": {
        "id": "WQL-RuNcctLv"
      },
      "source": [
        "#17 Z-Score\n",
        "data = array([6, 7, 7, 12, 13, 13, 15, 16, 19, 22])\n",
        "print(zscore(data))"
      ],
      "execution_count": null,
      "outputs": []
    },
    {
      "cell_type": "code",
      "metadata": {
        "id": "MXiUid2d3Smj"
      },
      "source": [
        "#18 Covariance, Pearson Coefficient\n",
        "\n",
        "seed(1)\n",
        "# prepare data\n",
        "data1 = 20 * randn(1000) + 100\n",
        "data2 = data1 + (10 * randn(1000) + 50)\n",
        "# summarize\n",
        "print('data1: mean=%.3f stdv=%.3f' % (mean(data1), std(data1))) #Mean and standard deviation of X\n",
        "print('data2: mean=%.3f stdv=%.3f' % (mean(data2), std(data2))) #Mean and standard deviation of Y\n",
        "# plot\n",
        "p.scatter(data1, data2)\n",
        "p.show()\n",
        "covariance = cov(data1, data2) #Numpy method cov\n",
        "print(covariance)\n",
        "corr, _ = pearsonr(data1, data2)\n",
        "print('Pearsons correlation: %.3f' % corr) #Pearson coefficient\n"
      ],
      "execution_count": null,
      "outputs": []
    },
    {
      "cell_type": "code",
      "metadata": {
        "id": "XVoi0SAVRwqo"
      },
      "source": [
        "#19 Least Square Method for best fit\n",
        "x = array([2,3,5,7,9])\n",
        "y=array([4,5,7,10,15])\n",
        "b=size(x)\n",
        "mean_x=mean(x)\n",
        "mean_y=mean(y)\n",
        "a1=sum(y*x)-b*mean_x*mean_y\n",
        "a2=sum(x*x)-b*mean_x*mean_y\n",
        "m=a1/a2\n",
        "c=mean_y-m*mean_x\n",
        "p.scatter(x,y,marker=\"o\",s=30)\n",
        "y_pred=m*8+c\n",
        "p.scatter(8,y_pred, marker=\"o\",color='g')\n",
        "p.show()\n"
      ],
      "execution_count": null,
      "outputs": []
    },
    {
      "cell_type": "code",
      "metadata": {
        "id": "_Cj0PdOlShCg"
      },
      "source": [
        "#20 Confusion Matrix\n",
        "\n",
        "# actual values\n",
        "actual = [1,0,0,1,0,0,1,0,0,1]\n",
        "# predicted values\n",
        "predicted = [1,0,0,1,0,0,0,1,0,0]\n",
        "\n",
        "# confusion matrix\n",
        "matrix = confusion_matrix(actual,predicted, labels=[1,0])\n",
        "print('Confusion matrix : \\n',matrix)\n",
        "\n",
        "# outcome values order in sklearn\n",
        "tp, fn, fp, tn = confusion_matrix(actual,predicted,labels=[1,0]).reshape(-1)\n",
        "print('Outcome values : \\n', tp, fn, fp, tn)\n",
        "\n",
        "# classification report for precision, recall f1-score and accuracy\n",
        "matrix = classification_report(actual,predicted,labels=[1,0])\n",
        "print('Classification report : \\n',matrix)"
      ],
      "execution_count": null,
      "outputs": []
    }
  ]
}